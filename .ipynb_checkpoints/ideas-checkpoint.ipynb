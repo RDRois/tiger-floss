{
 "cells": [
  {
   "cell_type": "markdown",
   "metadata": {},
   "source": [
    "## Volume ephasized chart\n",
    "\n",
    "Separate based on candlestick time interval\n",
    "* weekly, bin= 6mo\n",
    "* daily, bin= 30d\n",
    "* hourly, bin= 24h\n",
    "\n",
    "Questions:\n",
    "    How do we eliminate the price discrepancies?\n",
    "    How do we remove fluctuation? - brownian?\n",
    "    How to visualize volume? thickness?\n",
    "    \n",
    "* Use average instad of candlestick.\n",
    "* Turn vertical thickness into volume, with midpoint being at average\n",
    "* For each weekly, daily, and hourly, sample randomely to create bins of 6mo, 30d, and 24h respectively.\n",
    "* Each time interval will have its own probabilities\n",
    "\n",
    "* After turning average chart into a image - \n",
    "    * Use inception V3\n",
    "    \n",
    "    \n",
    "## Eye tracking & wavelength sensitivity\n",
    "* track eye movement\n",
    "* see where eye tracking is lost to determine wavelength sensitivity\n",
    "\n",
    "Question:\n",
    "    how do we get appropriate data for training?\n",
    "        Game? click in boxes, must look to click so every time click, then take picture\n",
    "\n",
    "for example: Have 3x3 grid. person clicks on a grid, picture is taken. picture is labeled and compared to grid clicked. This continues until each grid has been linked to a picture.\n",
    "\n",
    "If the grid is very fine, there will be a gridient of possible grids the person is looking at.\n",
    "\n"
   ]
  }
 ],
 "metadata": {
  "kernelspec": {
   "display_name": "Python 2",
   "language": "python",
   "name": "python2"
  },
  "language_info": {
   "codemirror_mode": {
    "name": "ipython",
    "version": 2
   },
   "file_extension": ".py",
   "mimetype": "text/x-python",
   "name": "python",
   "nbconvert_exporter": "python",
   "pygments_lexer": "ipython2",
   "version": "2.7.12"
  }
 },
 "nbformat": 4,
 "nbformat_minor": 2
}
